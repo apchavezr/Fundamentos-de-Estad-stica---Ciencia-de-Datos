{
 "cells": [
  {
   "cell_type": "markdown",
   "id": "b21dc215",
   "metadata": {},
   "source": [
    "# Ejercicio: Identificación de población, muestra y variables\n",
    "\n",
    "Este ejercicio tiene como objetivo aplicar conceptos fundamentales de estadística: **población**, **muestra** y **tipos de variables**. Se trabajará con un conjunto de datos simulado de salud pública.\n",
    "\n",
    "---\n",
    "\n",
    "## 1. Cargar el conjunto de datos\n",
    "\n",
    "Asegúrese de haber subido el archivo `datos_salud.csv` antes de ejecutar esta celda.\n"
   ]
  },
  {
   "cell_type": "code",
   "execution_count": null,
   "id": "08a46033",
   "metadata": {},
   "outputs": [],
   "source": [
    "import pandas as pd\n",
    "\n",
    "# Cargar los datos\n",
    "df = pd.read_csv(\"datos_salud.csv\")\n",
    "\n",
    "# Mostrar las primeras filas\n",
    "df.head()"
   ]
  },
  {
   "cell_type": "markdown",
   "id": "3ea6641b",
   "metadata": {},
   "source": [
    "---\n",
    "\n",
    "## 2. Identificación de elementos clave\n",
    "\n",
    "### a. Población\n",
    "Todos los usuarios del sistema de salud registrados en el país.\n",
    "\n",
    "### b. Muestra\n",
    "Subconjunto de 200 personas seleccionadas de forma simulada para representar distintas regiones y características demográficas.\n",
    "\n",
    "### c. Variables\n",
    "\n",
    "A continuación se muestra una tabla que clasifica las variables por tipo y escala de medición.\n"
   ]
  },
  {
   "cell_type": "code",
   "execution_count": null,
   "id": "a1083394",
   "metadata": {},
   "outputs": [],
   "source": [
    "# Crear tabla resumen de variables\n",
    "tabla_variables = pd.DataFrame({\n",
    "    \"Variable\": [\"id\", \"edad\", \"sexo\", \"grupo_sanguineo\", \"nivel_socioeconomico\",\n",
    "                 \"peso_kg\", \"vacunado_covid\", \"frecuencia_visita_medico\", \"departamento\"],\n",
    "    \"Tipo de variable\": [\"Cuantitativa discreta\", \"Cuantitativa continua\", \"Cualitativa nominal\",\n",
    "                         \"Cualitativa nominal\", \"Cualitativa ordinal\", \"Cuantitativa continua\",\n",
    "                         \"Cualitativa dicotómica\", \"Cuantitativa discreta\", \"Cualitativa nominal\"],\n",
    "    \"Escala de medición\": [\"Razón\", \"Razón\", \"Nominal\", \"Nominal\", \"Ordinal\", \"Razón\",\n",
    "                           \"Nominal\", \"Razón\", \"Nominal\"]\n",
    "})\n",
    "\n",
    "tabla_variables"
   ]
  },
  {
   "cell_type": "markdown",
   "id": "7940b449",
   "metadata": {},
   "source": [
    "---\n",
    "\n",
    "## 3. Preguntas de reflexión\n",
    "\n",
    "- ¿Qué variables podrían usarse para modelar la probabilidad de estar vacunado contra COVID-19?\n",
    "- ¿Qué variables requieren codificación antes de ser utilizadas en un modelo estadístico?\n",
    "- ¿Cómo distinguiría entre variables de entrada (predictoras) y la variable de salida (respuesta) en un análisis?\n",
    "\n",
    "---\n",
    "\n",
    "## 4. Recomendaciones\n",
    "\n",
    "- Utilice `.astype('category')` para declarar variables cualitativas si desea optimizar memoria.\n",
    "- Utilice `pd.to_numeric()` para convertir variables numéricas que hayan sido leídas como texto.\n",
    "- Considere usar gráficos como histogramas, diagramas de caja o gráficos de barras según el tipo de variable.\n",
    "\n",
    "¡Continúe explorando estos datos mediante análisis descriptivos y visualizaciones!\n"
   ]
  }
 ],
 "metadata": {},
 "nbformat": 4,
 "nbformat_minor": 5
}