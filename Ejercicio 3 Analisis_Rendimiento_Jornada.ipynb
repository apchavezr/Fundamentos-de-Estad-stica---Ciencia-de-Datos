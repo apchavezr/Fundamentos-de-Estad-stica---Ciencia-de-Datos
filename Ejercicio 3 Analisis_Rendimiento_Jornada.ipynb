{
 "cells": [
  {
   "cell_type": "markdown",
   "id": "f88a58c1",
   "metadata": {},
   "source": [
    "# Análisis exploratorio del rendimiento académico por jornada\n",
    "\n",
    "Este notebook presenta un ejemplo aplicado del uso de análisis descriptivo en el contexto de ciencia de datos, utilizando datos simulados sobre el rendimiento académico de estudiantes.\n",
    "\n",
    "---\n",
    "\n",
    "## 1. Cargar los datos\n",
    "\n",
    "Se trabajará con un archivo simulado que contiene calificaciones de estudiantes en dos jornadas: mañana y tarde.\n"
   ]
  },
  {
   "cell_type": "code",
   "execution_count": null,
   "id": "5836119d",
   "metadata": {},
   "outputs": [],
   "source": [
    "import pandas as pd\n",
    "import matplotlib.pyplot as plt\n",
    "import seaborn as sns\n",
    "\n",
    "# Cargar el dataset\n",
    "df = pd.read_csv(\"datos_rendimiento.csv\")\n",
    "\n",
    "# Vista previa\n",
    "df.head()"
   ]
  },
  {
   "cell_type": "markdown",
   "id": "97d315b9",
   "metadata": {},
   "source": [
    "---\n",
    "\n",
    "## 2. Descripción general de los datos\n",
    "\n",
    "Vamos a examinar estadísticas básicas y la estructura del conjunto de datos.\n"
   ]
  },
  {
   "cell_type": "code",
   "execution_count": null,
   "id": "9839dcd6",
   "metadata": {},
   "outputs": [],
   "source": [
    "# Resumen estadístico\n",
    "df.describe()\n",
    "\n",
    "# Ver distribución por jornada\n",
    "df['Jornada'].value_counts()"
   ]
  },
  {
   "cell_type": "markdown",
   "id": "30942ed4",
   "metadata": {},
   "source": [
    "---\n",
    "\n",
    "## 3. Visualización con histogramas\n",
    "\n",
    "El histograma permite observar la concentración de calificaciones para cada jornada.\n"
   ]
  },
  {
   "cell_type": "code",
   "execution_count": null,
   "id": "0a3f752e",
   "metadata": {},
   "outputs": [],
   "source": [
    "# Configuración visual\n",
    "sns.histplot(data=df, x='Calificación', hue='Jornada', kde=True, element='step', palette='Set2')\n",
    "plt.title(\"Distribución de calificaciones por jornada\")\n",
    "plt.xlabel(\"Calificación\")\n",
    "plt.ylabel(\"Frecuencia\")\n",
    "plt.grid(True)\n",
    "plt.show()"
   ]
  },
  {
   "cell_type": "markdown",
   "id": "b716a4dd",
   "metadata": {},
   "source": [
    "---\n",
    "\n",
    "## 4. Comparación de dispersión y mediana con boxplot\n",
    "\n",
    "El boxplot permite visualizar la mediana, los cuartiles y posibles valores atípicos de forma comparativa.\n"
   ]
  },
  {
   "cell_type": "code",
   "execution_count": null,
   "id": "f1c051ff",
   "metadata": {},
   "outputs": [],
   "source": [
    "sns.boxplot(data=df, x='Jornada', y='Calificación', palette='Set2')\n",
    "plt.title(\"Boxplot de calificaciones por jornada\")\n",
    "plt.ylabel(\"Calificación\")\n",
    "plt.grid(True)\n",
    "plt.show()"
   ]
  },
  {
   "cell_type": "markdown",
   "id": "9a7475e8",
   "metadata": {},
   "source": [
    "---\n",
    "\n",
    "## 5. Interpretación de resultados\n",
    "\n",
    "- Las **calificaciones** del grupo **mañana** se concentran alrededor de **3.5**, mientras que las del grupo **tarde** lo hacen en torno a **4.0**.\n",
    "- Ambas distribuciones muestran un comportamiento **simétrico**.\n",
    "- El **boxplot** indica que la mediana es más alta en la jornada de la tarde y permite observar que la **dispersión es ligeramente mayor** en el grupo de la mañana.\n",
    "- Estos hallazgos podrían ser el punto de partida para una investigación más profunda sobre si existen diferencias sistemáticas de rendimiento según la jornada.\n",
    "\n",
    "---\n",
    "\n",
    "## ✅ Conclusión\n",
    "\n",
    "Este análisis exploratorio es útil para formular hipótesis y diseñar estudios comparativos con fundamentos estadísticos.\n",
    "\n"
   ]
  }
 ],
 "metadata": {},
 "nbformat": 4,
 "nbformat_minor": 5
}