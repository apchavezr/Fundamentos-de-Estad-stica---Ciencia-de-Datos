{
  "cells": [
    {
      "cell_type": "markdown",
      "metadata": {
        "id": "view-in-github",
        "colab_type": "text"
      },
      "source": [
        "<a href=\"https://colab.research.google.com/github/apchavezr/Fundamentos-de-Estad-stica---Ciencia-de-Datos/blob/main/ejercicio_prueba_t_una_muestra_completo.ipynb\" target=\"_parent\"><img src=\"https://colab.research.google.com/assets/colab-badge.svg\" alt=\"Open In Colab\"/></a>"
      ]
    },
    {
      "cell_type": "markdown",
      "metadata": {
        "id": "-06ZB3OPd9tK"
      },
      "source": [
        "# Ejercicio 1: Prueba t de una muestra en Python\n",
        "\n",
        "Este notebook muestra cómo realizar una prueba t de una muestra para evaluar si el tiempo de respuesta de un nuevo algoritmo de búsqueda difiere significativamente del estándar actual de 2 segundos."
      ]
    },
    {
      "cell_type": "markdown",
      "metadata": {
        "id": "5b05dd9b"
      },
      "source": [
        "## Propósito del ejercicio\n",
        "En este ejercicio se analiza si el tiempo promedio de respuesta de un nuevo algoritmo de búsqueda es significativamente diferente al estándar establecido de 2 segundos. Para ello, se utiliza la prueba t de una muestra, una técnica inferencial que permite contrastar si la media de una muestra difiere de un valor poblacional conocido o supuesto.\n",
        "\n",
        "El objetivo del ejercicio es que el estudiante desarrolle habilidades para:\n",
        "\n",
        "- Formular hipótesis estadísticas (nula y alternativa) en el contexto de una comparación puntual.\n",
        "- Calcular el estadístico t y el valor p utilizando Python.\n",
        "- Tomar decisiones sobre la hipótesis nula con base en el nivel de significancia.\n",
        "- Interpretar los resultados en términos prácticos y comunicar conclusiones con sentido estadístico."
      ]
    },
    {
      "cell_type": "code",
      "execution_count": null,
      "metadata": {
        "id": "7xmiVG5_d9tL"
      },
      "outputs": [],
      "source": [
        "# Importar bibliotecas necesarias\n",
        "from scipy import stats\n",
        "import numpy as np"
      ]
    },
    {
      "cell_type": "markdown",
      "metadata": {
        "id": "RtZwPcpCd9tM"
      },
      "source": [
        "### Paso 1: Definición de parámetros"
      ]
    },
    {
      "cell_type": "code",
      "execution_count": null,
      "metadata": {
        "id": "PalU9eyhd9tM"
      },
      "outputs": [],
      "source": [
        "# Datos del ejercicio\n",
        "media_muestral = 1.87\n",
        "media_hipotetica = 2.00\n",
        "desviacion = 0.3\n",
        "n = 30"
      ]
    },
    {
      "cell_type": "markdown",
      "metadata": {
        "id": "XcPLS88Dd9tM"
      },
      "source": [
        "### Paso 2: Cálculo del estadístico t"
      ]
    },
    {
      "cell_type": "code",
      "execution_count": null,
      "metadata": {
        "colab": {
          "base_uri": "https://localhost:8080/"
        },
        "id": "cgVRqHTyd9tM",
        "outputId": "98b54b9a-463c-45a8-e5a1-01244b85df44"
      },
      "outputs": [
        {
          "data": {
            "text/plain": [
              "np.float64(-2.373464415855718)"
            ]
          },
          "execution_count": 3,
          "metadata": {},
          "output_type": "execute_result"
        }
      ],
      "source": [
        "t_stat = (media_muestral - media_hipotetica) / (desviacion / np.sqrt(n))\n",
        "t_stat"
      ]
    },
    {
      "cell_type": "markdown",
      "metadata": {
        "id": "t1b1pj5sd9tM"
      },
      "source": [
        "### Paso 3: Cálculo del p-valor"
      ]
    },
    {
      "cell_type": "code",
      "execution_count": null,
      "metadata": {
        "colab": {
          "base_uri": "https://localhost:8080/"
        },
        "id": "sc3i-iBwd9tN",
        "outputId": "015d8665-63b5-42a2-de1b-13e83b429774"
      },
      "outputs": [
        {
          "data": {
            "text/plain": [
              "np.float64(0.024464018419055034)"
            ]
          },
          "execution_count": 4,
          "metadata": {},
          "output_type": "execute_result"
        }
      ],
      "source": [
        "p_valor = stats.t.sf(np.abs(t_stat), df=n-1) * 2\n",
        "p_valor"
      ]
    },
    {
      "cell_type": "markdown",
      "metadata": {
        "id": "UDzXCXcrd9tN"
      },
      "source": [
        "### Paso 4: Comparación con el nivel de significancia (α = 0.05)"
      ]
    },
    {
      "cell_type": "code",
      "execution_count": null,
      "metadata": {
        "colab": {
          "base_uri": "https://localhost:8080/",
          "height": 35
        },
        "id": "kWkvOPJOd9tN",
        "outputId": "0c979daa-7628-4ff5-e148-d2c70e68632a"
      },
      "outputs": [
        {
          "data": {
            "application/vnd.google.colaboratory.intrinsic+json": {
              "type": "string"
            },
            "text/plain": [
              "'Rechazar H0'"
            ]
          },
          "execution_count": 5,
          "metadata": {},
          "output_type": "execute_result"
        }
      ],
      "source": [
        "alpha = 0.05\n",
        "decision = \"Rechazar H0\" if p_valor < alpha else \"No rechazar H0\"\n",
        "decision"
      ]
    },
    {
      "cell_type": "markdown",
      "metadata": {
        "id": "2rMM36CVd9tN"
      },
      "source": [
        "### Resultado\n",
        "Se concluye si hay suficiente evidencia para rechazar la hipótesis nula a un nivel de significancia del 5%."
      ]
    },
    {
      "cell_type": "markdown",
      "metadata": {
        "id": "61be109c"
      },
      "source": [
        "## Conclusiones\n",
        "Los resultados obtenidos permiten concluir si el nuevo algoritmo presenta un tiempo de respuesta promedio estadísticamente diferente al estándar de 2 segundos.\n",
        "\n",
        "En el contexto del ejercicio, si el valor p es menor al nivel de significancia establecido (por ejemplo, α = 0.05), se rechaza la hipótesis nula, lo que sugiere que la diferencia observada no es atribuible al azar.\n",
        "\n",
        "Este tipo de análisis es útil en aplicaciones reales para validar mejoras en desempeño, eficiencia o tiempos de ejecución de sistemas. No obstante, es importante tener en cuenta el tamaño de muestra, la variabilidad de los datos y la robustez del supuesto de normalidad.\n",
        "\n",
        "Una prueba t de una muestra ofrece un enfoque accesible y riguroso para sustentar decisiones con base en evidencia cuantitativa."
      ]
    }
  ],
  "metadata": {
    "colab": {
      "provenance": [],
      "include_colab_link": true
    },
    "kernelspec": {
      "display_name": "Python 3",
      "language": "python",
      "name": "python3"
    },
    "language_info": {
      "name": "python",
      "version": ""
    }
  },
  "nbformat": 4,
  "nbformat_minor": 0
}
