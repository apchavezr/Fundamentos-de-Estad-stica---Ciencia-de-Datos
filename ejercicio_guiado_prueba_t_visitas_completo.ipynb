{
  "cells": [
    {
      "cell_type": "markdown",
      "metadata": {
        "id": "view-in-github",
        "colab_type": "text"
      },
      "source": [
        "<a href=\"https://colab.research.google.com/github/apchavezr/Fundamentos-de-Estad-stica---Ciencia-de-Datos/blob/main/ejercicio_guiado_prueba_t_visitas_completo.ipynb\" target=\"_parent\"><img src=\"https://colab.research.google.com/assets/colab-badge.svg\" alt=\"Open In Colab\"/></a>"
      ]
    },
    {
      "cell_type": "markdown",
      "id": "54bc1728",
      "metadata": {
        "id": "54bc1728"
      },
      "source": [
        "### Ejercicio 2: Prueba t de una muestra en Python\n",
        "\n",
        "En este ejercicio se analiza una muestra simulada del número de visitas diarias a un sitio web, con el objetivo de evaluar si el promedio diario de tráfico recibido difiere significativamente de un umbral de referencia preestablecido (por ejemplo, 1.000 visitas por día). Este tipo de análisis es común en entornos digitales donde el monitoreo del comportamiento de usuarios permite tomar decisiones estratégicas de negocio.\n",
        "\n",
        "En particular, se utiliza una prueba t de una muestra para determinar si la media observada de visitas diarias es estadísticamente diferente del valor esperado. Esta herramienta es útil cuando se desea validar hipótesis sobre comportamientos promedio bajo incertidumbre y variabilidad natural en los datos recolectados.\n",
        "\n",
        "A través de este ejercicio, se espera que el estudiante sea capaz de:\n",
        "\n",
        "- Aplicar correctamente una prueba t de una muestra en un contexto realista de analítica web.\n",
        "- Formular hipótesis estadísticas de manera adecuada.\n",
        "- Calcular e interpretar el valor p y tomar decisiones con base en un nivel de significancia.\n",
        "- Comprender cómo este análisis puede aportar información útil para la gestión del rendimiento digital de un sitio web.\n"
      ]
    },
    {
      "cell_type": "markdown",
      "id": "5a6d89fb",
      "metadata": {
        "id": "5a6d89fb"
      },
      "source": [
        "# Ejercicio guiado: Prueba t de una muestra en Python\n",
        "\n",
        "En este ejercicio se evalúa si el número promedio de visitas diarias a un sitio web ha cambiado respecto al promedio histórico de 150 visitas diarias."
      ]
    },
    {
      "cell_type": "code",
      "execution_count": null,
      "id": "0d3bc736",
      "metadata": {
        "id": "0d3bc736"
      },
      "outputs": [],
      "source": [
        "import numpy as np\n",
        "from scipy import stats"
      ]
    },
    {
      "cell_type": "markdown",
      "id": "b52c0790",
      "metadata": {
        "id": "b52c0790"
      },
      "source": [
        "### Paso 1: Definición de hipótesis y datos muestrales"
      ]
    },
    {
      "cell_type": "code",
      "execution_count": null,
      "id": "c7f36b06",
      "metadata": {
        "colab": {
          "base_uri": "https://localhost:8080/"
        },
        "id": "c7f36b06",
        "outputId": "1c92901c-9d76-418a-a52c-f52ebfaceb9d"
      },
      "outputs": [
        {
          "name": "stdout",
          "output_type": "stream",
          "text": [
            "Media muestral: 154.60\n",
            "Desviación estándar muestral: 4.67\n",
            "Tamaño de muestra: 10\n"
          ]
        }
      ],
      "source": [
        "# Datos del problema\n",
        "media_hipotetica = 150   # Media poblacional conocida (H0)\n",
        "datos_muestra = [160, 152, 158, 149, 151, 155, 162, 148, 154, 157]  # Visitas diarias observadas\n",
        "n = len(datos_muestra)\n",
        "media_muestral = np.mean(datos_muestra)\n",
        "desviacion = np.std(datos_muestra, ddof=1)\n",
        "\n",
        "print(f\"Media muestral: {media_muestral:.2f}\")\n",
        "print(f\"Desviación estándar muestral: {desviacion:.2f}\")\n",
        "print(f\"Tamaño de muestra: {n}\")"
      ]
    },
    {
      "cell_type": "markdown",
      "id": "f639fcff",
      "metadata": {
        "id": "f639fcff"
      },
      "source": [
        "### Paso 2: Cálculo del estadístico t"
      ]
    },
    {
      "cell_type": "code",
      "execution_count": null,
      "id": "e1126dd3",
      "metadata": {
        "colab": {
          "base_uri": "https://localhost:8080/"
        },
        "id": "e1126dd3",
        "outputId": "75b4c10f-f424-4d35-c5a2-89708e21c1fa"
      },
      "outputs": [
        {
          "name": "stdout",
          "output_type": "stream",
          "text": [
            "Estadístico t calculado: 3.1139\n"
          ]
        }
      ],
      "source": [
        "t_stat = (media_muestral - media_hipotetica) / (desviacion / np.sqrt(n))\n",
        "print(f\"Estadístico t calculado: {t_stat:.4f}\")"
      ]
    },
    {
      "cell_type": "markdown",
      "id": "7a5d1b4d",
      "metadata": {
        "id": "7a5d1b4d"
      },
      "source": [
        "### Paso 3: Cálculo del p-valor (prueba bilateral)"
      ]
    },
    {
      "cell_type": "code",
      "execution_count": null,
      "id": "0f59c5cb",
      "metadata": {
        "colab": {
          "base_uri": "https://localhost:8080/"
        },
        "id": "0f59c5cb",
        "outputId": "2b7b63b3-52d9-442e-c394-856e0d6a87de"
      },
      "outputs": [
        {
          "name": "stdout",
          "output_type": "stream",
          "text": [
            "p-valor: 0.0124\n"
          ]
        }
      ],
      "source": [
        "p_valor = stats.t.sf(np.abs(t_stat), df=n-1) * 2\n",
        "print(f\"p-valor: {p_valor:.4f}\")"
      ]
    },
    {
      "cell_type": "markdown",
      "id": "1eb2ae00",
      "metadata": {
        "id": "1eb2ae00"
      },
      "source": [
        "### Paso 4: Toma de decisión (con α = 0.05)"
      ]
    },
    {
      "cell_type": "code",
      "execution_count": null,
      "id": "298775e2",
      "metadata": {
        "colab": {
          "base_uri": "https://localhost:8080/"
        },
        "id": "298775e2",
        "outputId": "c5db5b0a-aa1a-4298-dff8-776781f33896"
      },
      "outputs": [
        {
          "name": "stdout",
          "output_type": "stream",
          "text": [
            "Decisión: Rechazar H0\n"
          ]
        }
      ],
      "source": [
        "alpha = 0.05\n",
        "decision = \"Rechazar H0\" if p_valor < alpha else \"No rechazar H0\"\n",
        "print(f\"Decisión: {decision}\")"
      ]
    },
    {
      "cell_type": "markdown",
      "id": "77d9b374",
      "metadata": {
        "id": "77d9b374"
      },
      "source": [
        "### Resultado\n",
        "\n",
        "Se aplica una prueba t para una muestra para determinar si hay evidencia suficiente para afirmar que el número promedio de visitas ha cambiado respecto al valor histórico de 150 visitas diarias.\n",
        "\n",
        "- Estadístico t y p-valor calculados con base en los datos muestrales.\n",
        "- Comparación con nivel de significancia de 0.05.\n",
        "\n",
        "**Conclusión:** se toma una decisión con base en la evidencia estadística obtenida."
      ]
    },
    {
      "cell_type": "markdown",
      "id": "94bb0d16",
      "metadata": {
        "id": "94bb0d16"
      },
      "source": [
        "\n",
        "### Conclusiones\n",
        "\n",
        "A partir del análisis realizado con la prueba t de una muestra, se obtuvo un valor p que permite evaluar si la diferencia entre el número promedio de visitas observadas y el umbral de referencia es estadísticamente significativa.\n",
        "\n",
        "Si el valor p es menor que el nivel de significancia (por ejemplo, 0.05), se puede concluir que existe evidencia suficiente para afirmar que el promedio de visitas diarias difiere del valor esperado. Esto puede reflejar un cambio significativo en el comportamiento del usuario, el impacto de una campaña digital, o una alteración en la dinámica del sitio web.\n",
        "\n",
        "Por el contrario, si el valor p es mayor al nivel de significancia, no se rechaza la hipótesis nula, lo que implica que no hay evidencia estadística suficiente para afirmar que el promedio ha cambiado respecto al valor de referencia.\n",
        "\n",
        "Este tipo de pruebas permite tomar decisiones informadas en contextos donde es necesario monitorear metas de tráfico, evaluar efectividad de estrategias digitales y justificar acciones de mejora continua. Además, resalta la importancia de combinar análisis estadísticos con el conocimiento del dominio para una interpretación crítica y contextualizada de los resultados.\n"
      ]
    }
  ],
  "metadata": {
    "colab": {
      "provenance": [],
      "include_colab_link": true
    },
    "kernelspec": {
      "display_name": "Python 3",
      "name": "python3"
    },
    "language_info": {
      "name": "python"
    }
  },
  "nbformat": 4,
  "nbformat_minor": 5
}
