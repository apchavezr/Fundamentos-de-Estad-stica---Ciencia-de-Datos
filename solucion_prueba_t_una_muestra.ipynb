{
  "cells": [
    {
      "cell_type": "markdown",
      "metadata": {
        "id": "view-in-github",
        "colab_type": "text"
      },
      "source": [
        "<a href=\"https://colab.research.google.com/github/apchavezr/Fundamentos-de-Estad-stica---Ciencia-de-Datos/blob/main/solucion_prueba_t_una_muestra.ipynb\" target=\"_parent\"><img src=\"https://colab.research.google.com/assets/colab-badge.svg\" alt=\"Open In Colab\"/></a>"
      ]
    },
    {
      "cell_type": "markdown",
      "id": "834015b9",
      "metadata": {
        "id": "834015b9"
      },
      "source": [
        "# Ejercicio guiado: Prueba t de una muestra\n",
        "\n",
        "Este notebook implementa paso a paso una prueba t para una muestra usando Python, con base en un caso práctico de ciencia de datos."
      ]
    },
    {
      "cell_type": "code",
      "execution_count": 1,
      "id": "a3eeb441",
      "metadata": {
        "id": "a3eeb441"
      },
      "outputs": [],
      "source": [
        "from scipy import stats\n",
        "import numpy as np"
      ]
    },
    {
      "cell_type": "markdown",
      "id": "d669acfc",
      "metadata": {
        "id": "d669acfc"
      },
      "source": [
        "### Paso 1: Definición de hipótesis y parámetros"
      ]
    },
    {
      "cell_type": "code",
      "execution_count": 6,
      "id": "a1931ce6",
      "metadata": {
        "colab": {
          "base_uri": "https://localhost:8080/"
        },
        "id": "a1931ce6",
        "outputId": "8d963695-fcd6-4a65-8278-9f509b5cb808"
      },
      "outputs": [
        {
          "output_type": "stream",
          "name": "stdout",
          "text": [
            "Media muestral: 1.87\n",
            "Media bajo H0: 2.0\n"
          ]
        }
      ],
      "source": [
        "media_muestral = 1.87\n",
        "media_hipotetica = 2.00\n",
        "desviacion = 0.3\n",
        "n = 30\n",
        "\n",
        "print(f\"Media muestral: {media_muestral}\")\n",
        "print(f\"Media bajo H0: {media_hipotetica}\")"
      ]
    },
    {
      "cell_type": "markdown",
      "id": "d9e652ef",
      "metadata": {
        "id": "d9e652ef"
      },
      "source": [
        "### Paso 2: Cálculo del estadístico t"
      ]
    },
    {
      "cell_type": "code",
      "execution_count": 3,
      "id": "0b9d3339",
      "metadata": {
        "colab": {
          "base_uri": "https://localhost:8080/"
        },
        "id": "0b9d3339",
        "outputId": "e90b1a81-f31c-423b-d532-801add4aabf4"
      },
      "outputs": [
        {
          "output_type": "stream",
          "name": "stdout",
          "text": [
            "Estadístico t: -2.3735\n"
          ]
        }
      ],
      "source": [
        "t_stat = (media_muestral - media_hipotetica) / (desviacion / np.sqrt(n))\n",
        "print(f\"Estadístico t: {t_stat:.4f}\")"
      ]
    },
    {
      "cell_type": "markdown",
      "id": "1760de53",
      "metadata": {
        "id": "1760de53"
      },
      "source": [
        "### Paso 3: Cálculo del p-valor (prueba bilateral)"
      ]
    },
    {
      "cell_type": "code",
      "execution_count": 4,
      "id": "a1ca3823",
      "metadata": {
        "colab": {
          "base_uri": "https://localhost:8080/"
        },
        "id": "a1ca3823",
        "outputId": "10f54e54-a2d4-43b3-fdaa-888479a05324"
      },
      "outputs": [
        {
          "output_type": "stream",
          "name": "stdout",
          "text": [
            "p-valor: 0.0245\n"
          ]
        }
      ],
      "source": [
        "p_valor = stats.t.sf(np.abs(t_stat), df=n-1) * 2\n",
        "print(f\"p-valor: {p_valor:.4f}\")"
      ]
    },
    {
      "cell_type": "markdown",
      "id": "8196ddef",
      "metadata": {
        "id": "8196ddef"
      },
      "source": [
        "### Paso 4: Toma de decisión con α = 0.05"
      ]
    },
    {
      "cell_type": "code",
      "execution_count": 5,
      "id": "b3d1a0c8",
      "metadata": {
        "colab": {
          "base_uri": "https://localhost:8080/"
        },
        "id": "b3d1a0c8",
        "outputId": "f52d7982-0278-47ad-cdc8-4f44157aa91d"
      },
      "outputs": [
        {
          "output_type": "stream",
          "name": "stdout",
          "text": [
            "Decisión: Rechazar H0\n"
          ]
        }
      ],
      "source": [
        "alpha = 0.05\n",
        "decision = \"Rechazar H0\" if p_valor < alpha else \"No rechazar H0\"\n",
        "print(f\"Decisión: {decision}\")"
      ]
    },
    {
      "cell_type": "markdown",
      "id": "7bd3e2a3",
      "metadata": {
        "id": "7bd3e2a3"
      },
      "source": [
        "### Conclusión\n",
        "\n",
        "- Estadístico t: calculado en el paso 2\n",
        "- p-valor: calculado en el paso 3\n",
        "- Decisión: basada en comparación con el nivel de significancia\n",
        "\n",
        "Se concluye que **hay evidencia estadística para rechazar H0** y afirmar que el nuevo algoritmo tiene un tiempo de respuesta diferente al estándar de 2 segundos."
      ]
    }
  ],
  "metadata": {
    "colab": {
      "provenance": [],
      "include_colab_link": true
    },
    "language_info": {
      "name": "python"
    },
    "kernelspec": {
      "name": "python3",
      "display_name": "Python 3"
    }
  },
  "nbformat": 4,
  "nbformat_minor": 5
}