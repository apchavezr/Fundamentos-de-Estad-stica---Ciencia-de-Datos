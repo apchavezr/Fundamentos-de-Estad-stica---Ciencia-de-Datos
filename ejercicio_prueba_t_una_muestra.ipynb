{
  "cells": [
    {
      "cell_type": "markdown",
      "metadata": {
        "id": "view-in-github",
        "colab_type": "text"
      },
      "source": [
        "<a href=\"https://colab.research.google.com/github/apchavezr/Fundamentos-de-Estad-stica---Ciencia-de-Datos/blob/main/ejercicio_prueba_t_una_muestra.ipynb\" target=\"_parent\"><img src=\"https://colab.research.google.com/assets/colab-badge.svg\" alt=\"Open In Colab\"/></a>"
      ]
    },
    {
      "cell_type": "markdown",
      "metadata": {
        "id": "-06ZB3OPd9tK"
      },
      "source": [
        "# Ejercicio guiado: Prueba t de una muestra en Python\n",
        "\n",
        "Este notebook muestra cómo realizar una prueba t de una muestra para evaluar si el tiempo de respuesta de un nuevo algoritmo de búsqueda difiere significativamente del estándar actual de 2 segundos."
      ]
    },
    {
      "cell_type": "code",
      "execution_count": 1,
      "metadata": {
        "id": "7xmiVG5_d9tL"
      },
      "outputs": [],
      "source": [
        "# Importar bibliotecas necesarias\n",
        "from scipy import stats\n",
        "import numpy as np"
      ]
    },
    {
      "cell_type": "markdown",
      "metadata": {
        "id": "RtZwPcpCd9tM"
      },
      "source": [
        "### Paso 1: Definición de parámetros"
      ]
    },
    {
      "cell_type": "code",
      "execution_count": 2,
      "metadata": {
        "id": "PalU9eyhd9tM"
      },
      "outputs": [],
      "source": [
        "# Datos del ejercicio\n",
        "media_muestral = 1.87\n",
        "media_hipotetica = 2.00\n",
        "desviacion = 0.3\n",
        "n = 30"
      ]
    },
    {
      "cell_type": "markdown",
      "metadata": {
        "id": "XcPLS88Dd9tM"
      },
      "source": [
        "### Paso 2: Cálculo del estadístico t"
      ]
    },
    {
      "cell_type": "code",
      "execution_count": 3,
      "metadata": {
        "id": "cgVRqHTyd9tM",
        "outputId": "98b54b9a-463c-45a8-e5a1-01244b85df44",
        "colab": {
          "base_uri": "https://localhost:8080/"
        }
      },
      "outputs": [
        {
          "output_type": "execute_result",
          "data": {
            "text/plain": [
              "np.float64(-2.373464415855718)"
            ]
          },
          "metadata": {},
          "execution_count": 3
        }
      ],
      "source": [
        "t_stat = (media_muestral - media_hipotetica) / (desviacion / np.sqrt(n))\n",
        "t_stat"
      ]
    },
    {
      "cell_type": "markdown",
      "metadata": {
        "id": "t1b1pj5sd9tM"
      },
      "source": [
        "### Paso 3: Cálculo del p-valor"
      ]
    },
    {
      "cell_type": "code",
      "execution_count": 4,
      "metadata": {
        "id": "sc3i-iBwd9tN",
        "outputId": "015d8665-63b5-42a2-de1b-13e83b429774",
        "colab": {
          "base_uri": "https://localhost:8080/"
        }
      },
      "outputs": [
        {
          "output_type": "execute_result",
          "data": {
            "text/plain": [
              "np.float64(0.024464018419055034)"
            ]
          },
          "metadata": {},
          "execution_count": 4
        }
      ],
      "source": [
        "p_valor = stats.t.sf(np.abs(t_stat), df=n-1) * 2\n",
        "p_valor"
      ]
    },
    {
      "cell_type": "markdown",
      "metadata": {
        "id": "UDzXCXcrd9tN"
      },
      "source": [
        "### Paso 4: Comparación con el nivel de significancia (α = 0.05)"
      ]
    },
    {
      "cell_type": "code",
      "execution_count": 5,
      "metadata": {
        "id": "kWkvOPJOd9tN",
        "outputId": "0c979daa-7628-4ff5-e148-d2c70e68632a",
        "colab": {
          "base_uri": "https://localhost:8080/",
          "height": 35
        }
      },
      "outputs": [
        {
          "output_type": "execute_result",
          "data": {
            "text/plain": [
              "'Rechazar H0'"
            ],
            "application/vnd.google.colaboratory.intrinsic+json": {
              "type": "string"
            }
          },
          "metadata": {},
          "execution_count": 5
        }
      ],
      "source": [
        "alpha = 0.05\n",
        "decision = \"Rechazar H0\" if p_valor < alpha else \"No rechazar H0\"\n",
        "decision"
      ]
    },
    {
      "cell_type": "markdown",
      "metadata": {
        "id": "2rMM36CVd9tN"
      },
      "source": [
        "### Conclusión\n",
        "- Estadístico t: se calcula en el paso 2\n",
        "- p-valor: se calcula en el paso 3\n",
        "- Decisión: se toma en el paso 4\n",
        "\n",
        "Se concluye si hay suficiente evidencia para rechazar la hipótesis nula a un nivel de significancia del 5%."
      ]
    }
  ],
  "metadata": {
    "kernelspec": {
      "display_name": "Python 3",
      "language": "python",
      "name": "python3"
    },
    "language_info": {
      "name": "python",
      "version": ""
    },
    "colab": {
      "provenance": [],
      "include_colab_link": true
    }
  },
  "nbformat": 4,
  "nbformat_minor": 0
}