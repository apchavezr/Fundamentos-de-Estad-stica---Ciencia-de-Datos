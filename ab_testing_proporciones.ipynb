{
  "cells": [
    {
      "cell_type": "markdown",
      "metadata": {
        "id": "view-in-github",
        "colab_type": "text"
      },
      "source": [
        "<a href=\"https://colab.research.google.com/github/apchavezr/Fundamentos-de-Estad-stica---Ciencia-de-Datos/blob/main/ab_testing_proporciones.ipynb\" target=\"_parent\"><img src=\"https://colab.research.google.com/assets/colab-badge.svg\" alt=\"Open In Colab\"/></a>"
      ]
    },
    {
      "cell_type": "markdown",
      "id": "3f04a369",
      "metadata": {
        "id": "3f04a369"
      },
      "source": [
        "# A/B Testing: Comparación de tasas de conversión"
      ]
    },
    {
      "cell_type": "code",
      "execution_count": 1,
      "id": "e661110d",
      "metadata": {
        "id": "e661110d"
      },
      "outputs": [],
      "source": [
        "import numpy as np\n",
        "from statsmodels.stats.proportion import proportions_ztest"
      ]
    },
    {
      "cell_type": "markdown",
      "id": "4bddc35d",
      "metadata": {
        "id": "4bddc35d"
      },
      "source": [
        "### Paso 1: Datos de conversión para versiones A y B"
      ]
    },
    {
      "cell_type": "code",
      "execution_count": 2,
      "id": "2ccbe6d9",
      "metadata": {
        "id": "2ccbe6d9"
      },
      "outputs": [],
      "source": [
        "n_A, conv_A = 10000, 520\n",
        "n_B, conv_B = 10000, 580\n",
        "conteos = np.array([conv_A, conv_B])\n",
        "nobs = np.array([n_A, n_B])"
      ]
    },
    {
      "cell_type": "markdown",
      "id": "de366bbc",
      "metadata": {
        "id": "de366bbc"
      },
      "source": [
        "### Paso 2: Prueba de diferencia de proporciones"
      ]
    },
    {
      "cell_type": "code",
      "execution_count": 3,
      "id": "1fc1ed88",
      "metadata": {
        "id": "1fc1ed88",
        "outputId": "e20f721d-3744-4069-900e-ce3aec5b1d06",
        "colab": {
          "base_uri": "https://localhost:8080/"
        }
      },
      "outputs": [
        {
          "output_type": "stream",
          "name": "stdout",
          "text": [
            "Estadístico Z: -1.8610\n",
            "p-valor: 0.0627\n"
          ]
        }
      ],
      "source": [
        "stat, p_valor = proportions_ztest(count=conteos, nobs=nobs)\n",
        "print(f\"Estadístico Z: {stat:.4f}\")\n",
        "print(f\"p-valor: {p_valor:.4f}\")"
      ]
    },
    {
      "cell_type": "markdown",
      "id": "fa07f61d",
      "metadata": {
        "id": "fa07f61d"
      },
      "source": [
        "### Conclusión\n",
        "Si el p-valor < 0.05, se concluye que la versión B mejora significativamente la conversión."
      ]
    }
  ],
  "metadata": {
    "colab": {
      "provenance": [],
      "include_colab_link": true
    },
    "language_info": {
      "name": "python"
    },
    "kernelspec": {
      "name": "python3",
      "display_name": "Python 3"
    }
  },
  "nbformat": 4,
  "nbformat_minor": 5
}