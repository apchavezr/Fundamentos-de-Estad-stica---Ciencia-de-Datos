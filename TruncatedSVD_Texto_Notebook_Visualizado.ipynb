{
  "cells": [
    {
      "cell_type": "markdown",
      "metadata": {
        "id": "view-in-github",
        "colab_type": "text"
      },
      "source": [
        "<a href=\"https://colab.research.google.com/github/apchavezr/Fundamentos-de-Estad-stica---Ciencia-de-Datos/blob/main/TruncatedSVD_Texto_Notebook_Visualizado.ipynb\" target=\"_parent\"><img src=\"https://colab.research.google.com/assets/colab-badge.svg\" alt=\"Open In Colab\"/></a>"
      ]
    },
    {
      "cell_type": "markdown",
      "id": "d04b3d99",
      "metadata": {
        "id": "d04b3d99"
      },
      "source": [
        "# Reducción de dimensionalidad con TruncatedSVD y datos textuales\n",
        "Este notebook ilustra el uso de **TruncatedSVD** para reducir la dimensionalidad de una matriz dispersa obtenida mediante representación TF-IDF. El ejercicio se centra en una colección de documentos breves relacionados con ciencia de datos."
      ]
    },
    {
      "cell_type": "markdown",
      "id": "b34404ad",
      "metadata": {
        "id": "b34404ad"
      },
      "source": [
        "## 1. Importación de librerías\n",
        "Se importan las librerías necesarias para vectorización de texto y aplicación de TruncatedSVD."
      ]
    },
    {
      "cell_type": "code",
      "execution_count": 1,
      "id": "159699e6",
      "metadata": {
        "id": "159699e6"
      },
      "outputs": [],
      "source": [
        "from sklearn.decomposition import TruncatedSVD\n",
        "from sklearn.feature_extraction.text import TfidfVectorizer"
      ]
    },
    {
      "cell_type": "markdown",
      "id": "122ad95e",
      "metadata": {
        "id": "122ad95e"
      },
      "source": [
        "## 2. Definición de los documentos\n",
        "Creamos una pequeña colección de documentos que serán transformados en vectores utilizando TF-IDF. Esto simula una situación típica de minería de textos o análisis de contenido."
      ]
    },
    {
      "cell_type": "code",
      "execution_count": 2,
      "id": "ccb78b6f",
      "metadata": {
        "id": "ccb78b6f"
      },
      "outputs": [],
      "source": [
        "documentos = [\n",
        "    \"ciencia de datos aplicada a salud pública\",\n",
        "    \"estadística y minería de datos para análisis de riesgo\",\n",
        "    \"visualización de datos y análisis multivariado\",\n",
        "    \"ciencia de datos en energía y medio ambiente\"\n",
        "]"
      ]
    },
    {
      "cell_type": "markdown",
      "id": "1da2207f",
      "metadata": {
        "id": "1da2207f"
      },
      "source": [
        "## 3. Representación TF-IDF\n",
        "Se aplica el vectorizador TF-IDF para obtener una matriz dispersa, en la que las filas representan documentos y las columnas términos, ponderados por su frecuencia relativa en el corpus."
      ]
    },
    {
      "cell_type": "code",
      "execution_count": 3,
      "id": "74a2c858",
      "metadata": {
        "id": "74a2c858",
        "outputId": "5ad8a2a3-cecf-4181-97e4-4c8d5bd349d6",
        "colab": {
          "base_uri": "https://localhost:8080/"
        }
      },
      "outputs": [
        {
          "output_type": "stream",
          "name": "stdout",
          "text": [
            "Forma de la matriz TF-IDF: (4, 17)\n"
          ]
        }
      ],
      "source": [
        "vectorizador = TfidfVectorizer()\n",
        "X = vectorizador.fit_transform(documentos)\n",
        "print(\"Forma de la matriz TF-IDF:\", X.shape)"
      ]
    },
    {
      "cell_type": "markdown",
      "id": "408a0ab1",
      "metadata": {
        "id": "408a0ab1"
      },
      "source": [
        "## 4. Aplicación de TruncatedSVD\n",
        "Reducimos la dimensionalidad a 2 componentes. Esto permite proyectar los documentos en un espacio de menor dimensión, capturando los patrones latentes más relevantes del contenido textual."
      ]
    },
    {
      "cell_type": "code",
      "execution_count": 4,
      "id": "ffc89044",
      "metadata": {
        "id": "ffc89044",
        "outputId": "f795e232-c425-4534-b494-969f512a6ff1",
        "colab": {
          "base_uri": "https://localhost:8080/"
        }
      },
      "outputs": [
        {
          "output_type": "stream",
          "name": "stdout",
          "text": [
            "Componentes reducidos:\n",
            "[[ 0.60030702  0.49870029]\n",
            " [ 0.67927591 -0.44176534]\n",
            " [ 0.66271695 -0.48427917]\n",
            " [ 0.5748318   0.55955025]]\n"
          ]
        }
      ],
      "source": [
        "svd = TruncatedSVD(n_components=2)\n",
        "X_reducido = svd.fit_transform(X)\n",
        "print(\"Componentes reducidos:\")\n",
        "print(X_reducido)"
      ]
    },
    {
      "cell_type": "markdown",
      "id": "744f35c8",
      "metadata": {
        "id": "744f35c8"
      },
      "source": [
        "### Interpretación\n",
        "- Cada fila del resultado representa un documento proyectado en un nuevo espacio bidimensional.\n",
        "- Las columnas representan **componentes latentes** que combinan los términos originales para describir patrones subyacentes en los textos.\n",
        "- Aunque los valores no tienen interpretación directa como palabras, documentos con valores similares están relacionados temáticamente.\n",
        "- Esta técnica puede ser útil en tareas de clasificación, agrupamiento o visualización de contenido textual en grandes volúmenes de datos."
      ]
    },
    {
      "cell_type": "markdown",
      "id": "318a3cef",
      "metadata": {
        "id": "318a3cef"
      },
      "source": [
        "## 5. Visualización en 2D\n",
        "Se realiza una visualización de los documentos proyectados en el espacio de componentes obtenidos por TruncatedSVD. Cada punto representa un documento y su posición indica similitudes semánticas."
      ]
    },
    {
      "cell_type": "code",
      "execution_count": 5,
      "id": "19b52121",
      "metadata": {
        "id": "19b52121",
        "outputId": "093e74f2-5701-476f-8b80-c2024f8e38bb",
        "colab": {
          "base_uri": "https://localhost:8080/",
          "height": 565
        }
      },
      "outputs": [
        {
          "output_type": "display_data",
          "data": {
            "text/plain": [
              "<Figure size 800x600 with 1 Axes>"
            ],
            "image/png": "[encoded data removed]"
          },
          "metadata": {}
        }
      ],
      "source": [
        "import matplotlib.pyplot as plt\n",
        "\n",
        "plt.figure(figsize=(8,6))\n",
        "plt.scatter(X_reducido[:, 0], X_reducido[:, 1], color='purple')\n",
        "for i, texto in enumerate(documentos):\n",
        "    plt.text(X_reducido[i, 0] + 0.01, X_reducido[i, 1], f'Doc {i+1}', fontsize=9)\n",
        "\n",
        "plt.xlabel('Componente 1')\n",
        "plt.ylabel('Componente 2')\n",
        "plt.title('Proyección de documentos con TruncatedSVD')\n",
        "plt.grid(True)\n",
        "plt.show()"
      ]
    },
    {
      "cell_type": "markdown",
      "id": "b221630a",
      "metadata": {
        "id": "b221630a"
      },
      "source": [
        "## Conclusiones\n",
        "- El uso de TruncatedSVD en matrices dispersas permite representar grandes colecciones de texto en espacios de menor dimensión, lo cual es útil para análisis exploratorio, clasificación y agrupamiento.\n",
        "- La visualización en 2D permite identificar patrones o similitudes entre documentos que pueden no ser evidentes en su forma original.\n",
        "- En aplicaciones reales de Big Data, esta técnica es fundamental para reducir el costo computacional sin perder la estructura informativa relevante.\n",
        "- Se recomienda su uso combinado con técnicas de minería de texto, como análisis de temas (topic modeling), detección de duplicados o resumen automático."
      ]
    }
  ],
  "metadata": {
    "colab": {
      "provenance": [],
      "include_colab_link": true
    },
    "language_info": {
      "name": "python"
    },
    "kernelspec": {
      "name": "python3",
      "display_name": "Python 3"
    }
  },
  "nbformat": 4,
  "nbformat_minor": 5
}