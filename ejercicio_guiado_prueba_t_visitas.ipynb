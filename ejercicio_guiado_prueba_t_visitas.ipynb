{
  "cells": [
    {
      "cell_type": "markdown",
      "metadata": {
        "id": "view-in-github",
        "colab_type": "text"
      },
      "source": [
        "<a href=\"https://colab.research.google.com/github/apchavezr/Fundamentos-de-Estad-stica---Ciencia-de-Datos/blob/main/ejercicio_guiado_prueba_t_visitas.ipynb\" target=\"_parent\"><img src=\"https://colab.research.google.com/assets/colab-badge.svg\" alt=\"Open In Colab\"/></a>"
      ]
    },
    {
      "cell_type": "markdown",
      "id": "5a6d89fb",
      "metadata": {
        "id": "5a6d89fb"
      },
      "source": [
        "# Ejercicio guiado: Prueba t de una muestra en Python\n",
        "\n",
        "En este ejercicio se evalúa si el número promedio de visitas diarias a un sitio web ha cambiado respecto al promedio histórico de 150 visitas diarias."
      ]
    },
    {
      "cell_type": "code",
      "execution_count": 1,
      "id": "0d3bc736",
      "metadata": {
        "id": "0d3bc736"
      },
      "outputs": [],
      "source": [
        "import numpy as np\n",
        "from scipy import stats"
      ]
    },
    {
      "cell_type": "markdown",
      "id": "b52c0790",
      "metadata": {
        "id": "b52c0790"
      },
      "source": [
        "### Paso 1: Definición de hipótesis y datos muestrales"
      ]
    },
    {
      "cell_type": "code",
      "execution_count": 2,
      "id": "c7f36b06",
      "metadata": {
        "colab": {
          "base_uri": "https://localhost:8080/"
        },
        "id": "c7f36b06",
        "outputId": "1c92901c-9d76-418a-a52c-f52ebfaceb9d"
      },
      "outputs": [
        {
          "output_type": "stream",
          "name": "stdout",
          "text": [
            "Media muestral: 154.60\n",
            "Desviación estándar muestral: 4.67\n",
            "Tamaño de muestra: 10\n"
          ]
        }
      ],
      "source": [
        "# Datos del problema\n",
        "media_hipotetica = 150   # Media poblacional conocida (H0)\n",
        "datos_muestra = [160, 152, 158, 149, 151, 155, 162, 148, 154, 157]  # Visitas diarias observadas\n",
        "n = len(datos_muestra)\n",
        "media_muestral = np.mean(datos_muestra)\n",
        "desviacion = np.std(datos_muestra, ddof=1)\n",
        "\n",
        "print(f\"Media muestral: {media_muestral:.2f}\")\n",
        "print(f\"Desviación estándar muestral: {desviacion:.2f}\")\n",
        "print(f\"Tamaño de muestra: {n}\")"
      ]
    },
    {
      "cell_type": "markdown",
      "id": "f639fcff",
      "metadata": {
        "id": "f639fcff"
      },
      "source": [
        "### Paso 2: Cálculo del estadístico t"
      ]
    },
    {
      "cell_type": "code",
      "execution_count": 6,
      "id": "e1126dd3",
      "metadata": {
        "colab": {
          "base_uri": "https://localhost:8080/"
        },
        "id": "e1126dd3",
        "outputId": "75b4c10f-f424-4d35-c5a2-89708e21c1fa"
      },
      "outputs": [
        {
          "output_type": "stream",
          "name": "stdout",
          "text": [
            "Estadístico t calculado: 3.1139\n"
          ]
        }
      ],
      "source": [
        "t_stat = (media_muestral - media_hipotetica) / (desviacion / np.sqrt(n))\n",
        "print(f\"Estadístico t calculado: {t_stat:.4f}\")"
      ]
    },
    {
      "cell_type": "markdown",
      "id": "7a5d1b4d",
      "metadata": {
        "id": "7a5d1b4d"
      },
      "source": [
        "### Paso 3: Cálculo del p-valor (prueba bilateral)"
      ]
    },
    {
      "cell_type": "code",
      "execution_count": 5,
      "id": "0f59c5cb",
      "metadata": {
        "colab": {
          "base_uri": "https://localhost:8080/"
        },
        "id": "0f59c5cb",
        "outputId": "2b7b63b3-52d9-442e-c394-856e0d6a87de"
      },
      "outputs": [
        {
          "output_type": "stream",
          "name": "stdout",
          "text": [
            "p-valor: 0.0124\n"
          ]
        }
      ],
      "source": [
        "p_valor = stats.t.sf(np.abs(t_stat), df=n-1) * 2\n",
        "print(f\"p-valor: {p_valor:.4f}\")"
      ]
    },
    {
      "cell_type": "markdown",
      "id": "1eb2ae00",
      "metadata": {
        "id": "1eb2ae00"
      },
      "source": [
        "### Paso 4: Toma de decisión (con α = 0.05)"
      ]
    },
    {
      "cell_type": "code",
      "execution_count": 7,
      "id": "298775e2",
      "metadata": {
        "colab": {
          "base_uri": "https://localhost:8080/"
        },
        "id": "298775e2",
        "outputId": "c5db5b0a-aa1a-4298-dff8-776781f33896"
      },
      "outputs": [
        {
          "output_type": "stream",
          "name": "stdout",
          "text": [
            "Decisión: Rechazar H0\n"
          ]
        }
      ],
      "source": [
        "alpha = 0.05\n",
        "decision = \"Rechazar H0\" if p_valor < alpha else \"No rechazar H0\"\n",
        "print(f\"Decisión: {decision}\")"
      ]
    },
    {
      "cell_type": "markdown",
      "id": "77d9b374",
      "metadata": {
        "id": "77d9b374"
      },
      "source": [
        "### Conclusión\n",
        "\n",
        "Se aplica una prueba t para una muestra para determinar si hay evidencia suficiente para afirmar que el número promedio de visitas ha cambiado respecto al valor histórico de 150 visitas diarias.\n",
        "\n",
        "- Estadístico t y p-valor calculados con base en los datos muestrales.\n",
        "- Comparación con nivel de significancia de 0.05.\n",
        "\n",
        "**Conclusión:** se toma una decisión con base en la evidencia estadística obtenida."
      ]
    }
  ],
  "metadata": {
    "colab": {
      "provenance": [],
      "include_colab_link": true
    },
    "language_info": {
      "name": "python"
    },
    "kernelspec": {
      "name": "python3",
      "display_name": "Python 3"
    }
  },
  "nbformat": 4,
  "nbformat_minor": 5
}