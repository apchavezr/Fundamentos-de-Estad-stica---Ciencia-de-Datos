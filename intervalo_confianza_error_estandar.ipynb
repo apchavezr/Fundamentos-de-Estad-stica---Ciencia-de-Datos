{
  "cells": [
    {
      "cell_type": "markdown",
      "metadata": {
        "id": "view-in-github",
        "colab_type": "text"
      },
      "source": [
        "<a href=\"https://colab.research.google.com/github/apchavezr/Fundamentos-de-Estad-stica---Ciencia-de-Datos/blob/main/intervalo_confianza_error_estandar.ipynb\" target=\"_parent\"><img src=\"https://colab.research.google.com/assets/colab-badge.svg\" alt=\"Open In Colab\"/></a>"
      ]
    },
    {
      "cell_type": "markdown",
      "id": "aa275837",
      "metadata": {
        "id": "aa275837"
      },
      "source": [
        "# Intervalos de confianza y error estándar\n",
        "\n",
        "Este cuaderno desarrolla los conceptos fundamentales de los intervalos de confianza y el error estándar para la estimación de parámetros poblacionales."
      ]
    },
    {
      "cell_type": "code",
      "execution_count": 1,
      "id": "c9e68de1",
      "metadata": {
        "id": "c9e68de1"
      },
      "outputs": [],
      "source": [
        "import numpy as np\n",
        "from scipy import stats\n",
        "import matplotlib.pyplot as plt"
      ]
    },
    {
      "cell_type": "markdown",
      "id": "ef52a743",
      "metadata": {
        "id": "ef52a743"
      },
      "source": [
        "## 1. Intervalos de confianza\n",
        "\n",
        "Un intervalo de confianza del 95% indica un rango dentro del cual se espera que se ubique el verdadero valor poblacional con una confianza del 95%."
      ]
    },
    {
      "cell_type": "markdown",
      "id": "ff25a7f6",
      "metadata": {
        "id": "ff25a7f6"
      },
      "source": [
        "## 2. Ejemplo práctico con Python"
      ]
    },
    {
      "cell_type": "code",
      "execution_count": 2,
      "id": "42c8a670",
      "metadata": {
        "colab": {
          "base_uri": "https://localhost:8080/"
        },
        "id": "42c8a670",
        "outputId": "2af5cd5e-ea90-4ac0-e778-b302614f4108"
      },
      "outputs": [
        {
          "output_type": "stream",
          "name": "stdout",
          "text": [
            "Media muestral: 14.72\n",
            "Error estándar: 0.2255\n",
            "IC del 95%: (14.21, 15.23)\n"
          ]
        }
      ],
      "source": [
        "# Datos simulados de tiempos de atención (en minutos)\n",
        "datos = np.array([14.2, 15.1, 13.8, 16.0, 14.5, 15.6, 13.9, 14.7, 14.4, 15.0])\n",
        "n = len(datos)\n",
        "media = np.mean(datos)\n",
        "desviacion = np.std(datos, ddof=1)\n",
        "error_estandar = desviacion / np.sqrt(n)\n",
        "\n",
        "# Valor t crítico para 95% de confianza\n",
        "t_critico = stats.t.ppf(0.975, df=n-1)\n",
        "\n",
        "# Intervalo de confianza\n",
        "limite_inferior = media - t_critico * error_estandar\n",
        "limite_superior = media + t_critico * error_estandar\n",
        "\n",
        "print(f\"Media muestral: {media:.2f}\")\n",
        "print(f\"Error estándar: {error_estandar:.4f}\")\n",
        "print(f\"IC del 95%: ({limite_inferior:.2f}, {limite_superior:.2f})\")"
      ]
    },
    {
      "cell_type": "markdown",
      "id": "9ca8256f",
      "metadata": {
        "id": "9ca8256f"
      },
      "source": [
        "## 3. Comparación: desviación estándar vs error estándar"
      ]
    },
    {
      "cell_type": "code",
      "execution_count": 3,
      "id": "6e9b8381",
      "metadata": {
        "colab": {
          "base_uri": "https://localhost:8080/"
        },
        "id": "6e9b8381",
        "outputId": "c3ef8289-20b6-4e35-a68d-a8e5720a93a7"
      },
      "outputs": [
        {
          "output_type": "stream",
          "name": "stdout",
          "text": [
            "Desviación estándar: 0.7131\n",
            "Error estándar: 0.2255\n"
          ]
        }
      ],
      "source": [
        "print(f\"Desviación estándar: {desviacion:.4f}\")\n",
        "print(f\"Error estándar: {error_estandar:.4f}\")"
      ]
    },
    {
      "cell_type": "markdown",
      "id": "a5351bb3",
      "metadata": {
        "id": "a5351bb3"
      },
      "source": [
        "## 4. Visualización del intervalo de confianza"
      ]
    },
    {
      "cell_type": "code",
      "execution_count": 4,
      "id": "0104a9bb",
      "metadata": {
        "colab": {
          "base_uri": "https://localhost:8080/",
          "height": 367
        },
        "id": "0104a9bb",
        "outputId": "8eed35fe-047c-40fd-dd16-b1707e2e760b"
      },
      "outputs": [
        {
          "output_type": "display_data",
          "data": {
            "text/plain": [
              "<Figure size 800x400 with 1 Axes>"
            ],
            "image/png": "[encoded data removed]"
          },
          "metadata": {}
        }
      ],
      "source": [
        "plt.figure(figsize=(8, 4))\n",
        "plt.errorbar(x=1, y=media, yerr=t_critico*error_estandar, fmt='o', color='blue', label='IC 95%')\n",
        "plt.axhline(media, color='gray', linestyle='--', label='Media')\n",
        "plt.title('Intervalo de confianza del 95%')\n",
        "plt.ylabel('Tiempo (minutos)')\n",
        "plt.xticks([])\n",
        "plt.legend()\n",
        "plt.grid(True)\n",
        "plt.show()"
      ]
    },
    {
      "cell_type": "markdown",
      "id": "6190f144",
      "metadata": {
        "id": "6190f144"
      },
      "source": [
        "## 5. Conclusión\n",
        "\n",
        "Este ejemplo ilustra cómo construir un intervalo de confianza para la media de una variable a partir de una muestra. El error estándar permite cuantificar la precisión de esta estimación. La visualización refuerza la interpretación del intervalo como un rango plausible del parámetro poblacional."
      ]
    }
  ],
  "metadata": {
    "colab": {
      "provenance": [],
      "include_colab_link": true
    },
    "language_info": {
      "name": "python"
    },
    "kernelspec": {
      "name": "python3",
      "display_name": "Python 3"
    }
  },
  "nbformat": 4,
  "nbformat_minor": 5
}